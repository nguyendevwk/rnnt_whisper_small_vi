{
    "cells": [
        {
            "cell_type": "markdown",
            "metadata": {},
            "source": [
                "# Training RNNT Whisper Small VI with Multi-GPU Accelerate\n",
                "\n",
                "Notebook này dùng để huấn luyện mô hình StreamingRNNT cho tiếng Việt với hỗ trợ multi-GPU thông qua thư viện Accelerate từ Hugging Face.\n"
            ]
        },
        {
            "cell_type": "markdown",
            "metadata": {},
            "source": [
                "## 1. Cài đặt môi trường\n"
            ]
        },
        {
            "cell_type": "code",
            "execution_count": null,
            "metadata": {},
            "outputs": [],
            "source": [
                "# Cài đặt các gói phụ thuộc\n",
                "!pip install accelerate sentencepiece jiwer librosa tqdm loguru tensorboard"
            ]
        },
        {
            "cell_type": "markdown",
            "metadata": {},
            "source": [
                "## 2. Tải mã nguồn\n"
            ]
        },
        {
            "cell_type": "code",
            "execution_count": null,
            "metadata": {},
            "outputs": [],
            "source": [
                "# Clone repository từ GitHub\n",
                "!git clone https://github.com/nguyendevwk/rnnt_whisper_small_vi.git\n",
                "%cd rnnt_whisper_small_vi"
            ]
        },
        {
            "cell_type": "markdown",
            "metadata": {},
            "source": [
                "## 3. Thêm script cho multi-GPU training\n"
            ]
        },
        {
            "cell_type": "code",
            "execution_count": null,
            "metadata": {},
            "outputs": [],
            "source": [
                "%%readfile train_accelerate.py\n",
                "# Nội dung file train_accelerate.py sẽ được tự động thêm vào đây"
            ]
        },
        {
            "cell_type": "code",
            "execution_count": null,
            "metadata": {},
            "outputs": [],
            "source": [
                "%%writefile train_accelerate.py\n",
                "# Nội dung file train_accelerate.py sẽ được tự động thêm vào đây"
            ]
        },
        {
            "cell_type": "code",
            "execution_count": null,
            "metadata": {},
            "outputs": [],
            "source": [
                "%%writefile run_accelerate.py\n",
                "# Nội dung file run_accelerate.py sẽ được tự động thêm vào đây"
            ]
        },
        {
            "cell_type": "markdown",
            "metadata": {},
            "source": [
                "## 4. Tạo cấu hình Accelerate\n"
            ]
        },
        {
            "cell_type": "code",
            "execution_count": null,
            "metadata": {},
            "outputs": [],
            "source": [
                "# Kiểm tra GPU\n",
                "!nvidia-smi"
            ]
        },
        {
            "cell_type": "code",
            "execution_count": null,
            "metadata": {},
            "outputs": [],
            "source": [
                "# Tạo cấu hình Accelerate cho multi-GPU training\n",
                "%%writefile accelerate_config.yaml\n",
                "compute_environment: LOCAL_MACHINE\n",
                "distributed_type: MULTI_GPU\n",
                "downcast_bf16: 'no'\n",
                "gpu_ids: all\n",
                "machine_rank: 0\n",
                "main_training_function: main\n",
                "mixed_precision: bf16\n",
                "num_machines: 1\n",
                "num_processes: 0  # 0 sẽ tự động sử dụng tất cả GPU có sẵn\n",
                "rdzv_backend: static\n",
                "same_network: true\n",
                "tpu_env: []\n",
                "tpu_use_cluster: false\n",
                "tpu_use_sudo: false\n",
                "use_cpu: false"
            ]
        },
        {
            "cell_type": "markdown",
            "metadata": {},
            "source": [
                "## 5. Chuẩn bị dữ liệu\n",
                "\n",
                "Đoạn này giả định rằng bạn đã có dữ liệu sẵn, với các file manifest ở định dạng JSONL. File manifest có cấu trúc JSON với các trường bắt buộc: `audio_filepath`, `duration`, `text` và `offset`.\n"
            ]
        },
        {
            "cell_type": "code",
            "execution_count": null,
            "metadata": {},
            "outputs": [],
            "source": [
                "# Kiểm tra đường dẫn manifest\n",
                "TRAIN_MANIFEST = \"/kaggle/working/data/train/train_data.jsonl\"\n",
                "VAL_MANIFEST = \"/kaggle/working/data/test/test_data.jsonl\"\n",
                "\n",
                "import os\n",
                "\n",
                "# Tạo thư mục nếu cần\n",
                "os.makedirs(os.path.dirname(TRAIN_MANIFEST), exist_ok=True)\n",
                "os.makedirs(os.path.dirname(VAL_MANIFEST), exist_ok=True)\n",
                "\n",
                "# Kiểm tra xem file manifest có tồn tại không\n",
                "if os.path.exists(TRAIN_MANIFEST):\n",
                "    print(f\"Train manifest đã tồn tại: {TRAIN_MANIFEST}\")\n",
                "    # Đọc vài dòng đầu tiên\n",
                "    !head -n 2 {TRAIN_MANIFEST}\n",
                "else:\n",
                "    print(f\"Train manifest không tồn tại: {TRAIN_MANIFEST}\")\n",
                "    print(\"Bạn cần chuẩn bị file manifest trước khi huấn luyện.\")\n",
                "\n",
                "if os.path.exists(VAL_MANIFEST):\n",
                "    print(f\"\\nVal manifest đã tồn tại: {VAL_MANIFEST}\")\n",
                "    # Đọc vài dòng đầu tiên\n",
                "    !head -n 2 {VAL_MANIFEST}\n",
                "else:\n",
                "    print(f\"\\nVal manifest không tồn tại: {VAL_MANIFEST}\")\n",
                "    print(\"Bạn cần chuẩn bị file manifest trước khi huấn luyện.\")\n",
                "\n",
                "# Kiểm tra thư mục đầu ra\n",
                "OUTPUT_DIR = \"./checkpoints\"\n",
                "os.makedirs(OUTPUT_DIR, exist_ok=True)\n",
                "print(f\"\\nThư mục đầu ra: {OUTPUT_DIR}\")"
            ]
        },
        {
            "cell_type": "markdown",
            "metadata": {},
            "source": [
                "## 6. Chạy huấn luyện với multi-GPU\n"
            ]
        },
        {
            "cell_type": "code",
            "execution_count": null,
            "metadata": {},
            "outputs": [],
            "source": [
                "# Tạo thư mục để lưu checkpoint\n",
                "!mkdir -p ./checkpoints\n",
                "!mkdir -p /kaggle/working/checkpoints"
            ]
        },
        {
            "cell_type": "code",
            "execution_count": null,
            "metadata": {},
            "outputs": [],
            "source": [
                "# Chạy huấn luyện với run_accelerate.py\n",
                "!python run_accelerate.py \\\n",
                "    --batch_size 32 \\\n",
                "    --max_epochs 50 \\\n",
                "    --num_workers 4 \\\n",
                "    --output_dir \"./checkpoints\" \\\n",
                "    --precision \"bf16-mixed\" \\\n",
                "    --lr 1e-4 \\\n",
                "    --train_manifest \"{TRAIN_MANIFEST}\" \\\n",
                "    --val_manifest \"{VAL_MANIFEST}\" \\\n",
                "    --base_path \"/kaggle/working/\" \\\n",
                "    --tokenizer_model_path \"./weights/tokenizer_spe_bpe_v1024_pad/tokenizer.model\" \\\n",
                "    --augment"
            ]
        },
        {
            "cell_type": "markdown",
            "metadata": {},
            "source": [
                "## 7. Theo dõi huấn luyện với TensorBoard\n"
            ]
        },
        {
            "cell_type": "code",
            "execution_count": null,
            "metadata": {},
            "outputs": [],
            "source": [
                "%load_ext tensorboard\n",
                "%tensorboard --logdir ./checkpoints/logs"
            ]
        },
        {
            "cell_type": "markdown",
            "metadata": {},
            "source": [
                "## 8. Tiếp tục huấn luyện từ checkpoint\n"
            ]
        },
        {
            "cell_type": "code",
            "execution_count": null,
            "metadata": {},
            "outputs": [],
            "source": [
                "# Tiếp tục huấn luyện từ checkpoint đã lưu\n",
                "!python run_accelerate.py \\\n",
                "    --batch_size 32 \\\n",
                "    --max_epochs 50 \\\n",
                "    --num_workers 4 \\\n",
                "    --output_dir \"./checkpoints\" \\\n",
                "    --precision \"bf16-mixed\" \\\n",
                "    --lr 5e-5 \\\n",
                "    --train_manifest \"{TRAIN_MANIFEST}\" \\\n",
                "    --val_manifest \"{VAL_MANIFEST}\" \\\n",
                "    --base_path \"/kaggle/working/\" \\\n",
                "    --tokenizer_model_path \"./weights/tokenizer_spe_bpe_v1024_pad/tokenizer.model\" \\\n",
                "    --resume_from_checkpoint \"./checkpoints/rnnt-latest.pt\" \\\n",
                "    --augment"
            ]
        },
        {
            "cell_type": "markdown",
            "metadata": {},
            "source": [
                "## 9. Kiểm tra checkpoint đã lưu\n"
            ]
        },
        {
            "cell_type": "code",
            "execution_count": null,
            "metadata": {},
            "outputs": [],
            "source": [
                "# Liệt kê các checkpoint đã lưu\n",
                "!ls -la ./checkpoints/\n",
                "\n",
                "# Đọc thông tin cấu hình\n",
                "import json\n",
                "try:\n",
                "    with open('./checkpoints/training_config.json', 'r') as f:\n",
                "        config = json.load(f)\n",
                "    print(\"\\nCấu hình huấn luyện:\")\n",
                "    for key, value in config.items():\n",
                "        print(f\"{key}: {value}\")\n",
                "except Exception as e:\n",
                "    print(f\"Không thể đọc file cấu hình: {e}\")"
            ]
        },
        {
            "cell_type": "markdown",
            "metadata": {},
            "source": [
                "## 10. Lưu ý quan trọng\n",
                "\n",
                "1. **Manifest**: Phải đảm bảo rằng đường dẫn trong manifest file chính xác\n",
                "2. **GPU**: Để tận dụng multi-GPU, hãy đảm bảo môi trường Kaggle của bạn có 2 GPU trở lên\n",
                "3. **Checkpoints**: Kaggle notebooks chỉ giữ lại các file trong thư mục `/kaggle/working/`, nên bạn cần đảm bảo rằng checkpoints được lưu vào đó\n",
                "4. **Xem kết quả**: Sử dụng TensorBoard để theo dõi quá trình huấn luyện\n"
            ]
        }
    ],
    "metadata": {
        "accelerator": "GPU",
        "kernelspec": {
            "display_name": "Python 3",
            "language": "python",
            "name": "python3"
        },
        "language_info": {
            "codemirror_mode": {
                "name": "ipython",
                "version": 3
            },
            "file_extension": ".py",
            "mimetype": "text/x-python",
            "name": "python",
            "nbconvert_exporter": "python",
            "pygments_lexer": "ipython3",
            "version": "3.10.12"
        }
    },
    "nbformat": 4,
    "nbformat_minor": 4
}
